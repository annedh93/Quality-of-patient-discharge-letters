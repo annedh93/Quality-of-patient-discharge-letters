{
 "cells": [
  {
   "cell_type": "code",
   "execution_count": 1,
   "metadata": {},
   "outputs": [],
   "source": [
    "# Load packages\n",
    "import pandas as pd\n",
    "import numpy as np\n",
    "import matplotlib.pyplot as plt\n",
    "from plot_utils import *\n",
    "from sklearn.metrics import cohen_kappa_score\n",
    "pd.set_option('display.max_rows', None)\n",
    "pd.set_option('display.max_columns', None)"
   ]
  },
  {
   "cell_type": "code",
   "execution_count": 2,
   "metadata": {},
   "outputs": [],
   "source": [
    "# Read dataframe. Remove annotations that were marked as 'test' or not done by annotators. \n",
    "base = pd.read_csv('prepared data/base.csv') # Load data\n",
    "annotations = pd.read_csv('prepared data/annotations.csv') # Load data\n",
    "questions = pd.read_csv('prepared data/questions.csv') # Load data\n",
    "questions_wide = pd.read_csv('prepared data/questions_wide.csv') # Load data"
   ]
  },
  {
   "cell_type": "markdown",
   "metadata": {},
   "source": [
    "# Study statistics"
   ]
  },
  {
   "cell_type": "code",
   "execution_count": 3,
   "metadata": {},
   "outputs": [
    {
     "data": {
      "text/plain": [
       "evaluated_letter  medical_specialty\n",
       "GPT letter        cardiology2          0.234375\n",
       "ORG letter        cardiology2          0.234375\n",
       "GPT letter        NICU                 0.145833\n",
       "ORG letter        NICU                 0.145833\n",
       "GPT letter        ICU                  0.119792\n",
       "ORG letter        ICU                  0.119792\n",
       "dtype: float64"
      ]
     },
     "execution_count": 3,
     "metadata": {},
     "output_type": "execute_result"
    }
   ],
   "source": [
    "base[['evaluated_letter','medical_specialty']].value_counts(normalize=True)"
   ]
  },
  {
   "cell_type": "markdown",
   "metadata": {},
   "source": [
    "# USABILITY"
   ]
  },
  {
   "cell_type": "code",
   "execution_count": 4,
   "metadata": {},
   "outputs": [
    {
     "data": {
      "image/png": "[encoded data removed]",
      "text/plain": [
       "<Figure size 432x288 with 1 Axes>"
      ]
     },
     "metadata": {
      "needs_background": "light"
     },
     "output_type": "display_data"
    }
   ],
   "source": [
    "# Plot usability barplot for GPT and physician letter separately\n",
    "make_barplot(group_indices={'physician letter':base.evaluated_letter=='ORG letter','GPT letter':base.evaluated_letter=='GPT letter'}, \n",
    "    data=base, outcome='usability_likert', shift=np.array([-1,1]),\n",
    "    save_name='usability_barplot.pdf')"
   ]
  },
  {
   "cell_type": "code",
   "execution_count": 5,
   "metadata": {},
   "outputs": [
    {
     "name": "stdout",
     "output_type": "stream",
     "text": [
      "mean physician letter score 3.8 ( 0.7 )\n",
      "mean GPT letter score 3.3 ( 1.1 )\n"
     ]
    }
   ],
   "source": [
    "# Calculate average usability\n",
    "print('mean physician letter score',round(np.mean(base.loc[base.evaluated_letter=='ORG letter','usability_likert']),1),\n",
    "      '(',\n",
    "      round(np.std(base.loc[base.evaluated_letter=='ORG letter','usability_likert']),1),\n",
    "      ')')\n",
    "\n",
    "print('mean GPT letter score',round(np.mean(base.loc[base.evaluated_letter=='GPT letter','usability_likert']),1),\n",
    "      '(',\n",
    "      round(np.std(base.loc[base.evaluated_letter=='GPT letter','usability_likert']),1),\n",
    "      ')')"
   ]
  },
  {
   "cell_type": "code",
   "execution_count": 6,
   "metadata": {},
   "outputs": [
    {
     "name": "stdout",
     "output_type": "stream",
     "text": [
      "mean ICU physician letter score 3.6 ( 0.6 )\n",
      "mean ICU GPT letter score 3.3 ( 1.2 )\n",
      "mean NICU physician letter score 3.7 ( 0.9 )\n",
      "mean NICU GPT letter score 3.8 ( 0.7 )\n",
      "mean cardiology physician letter score 3.9 ( 0.6 )\n",
      "mean cardiology GPT letter score 3.0 ( 1.2 )\n"
     ]
    }
   ],
   "source": [
    "# Calculate average usability\n",
    "print('mean ICU physician letter score',round(np.mean(base.loc[(base.evaluated_letter=='ORG letter') & (base.medical_specialty=='ICU'),'usability_likert']),1),\n",
    "      '(',\n",
    "      round(np.std(base.loc[(base.evaluated_letter=='ORG letter') & (base.medical_specialty=='ICU'),'usability_likert']),1),\n",
    "      ')')\n",
    "\n",
    "print('mean ICU GPT letter score',round(np.mean(base.loc[(base.evaluated_letter=='GPT letter') & (base.medical_specialty=='ICU'),'usability_likert']),1),\n",
    "      '(',\n",
    "      round(np.std(base.loc[(base.evaluated_letter=='GPT letter') & (base.medical_specialty=='ICU'),'usability_likert']),1),\n",
    "      ')')\n",
    "\n",
    "# Calculate average usability\n",
    "print('mean NICU physician letter score',round(np.mean(base.loc[(base.evaluated_letter=='ORG letter') & (base.medical_specialty=='NICU'),'usability_likert']),1),\n",
    "      '(',\n",
    "      round(np.std(base.loc[(base.evaluated_letter=='ORG letter') & (base.medical_specialty=='NICU'),'usability_likert']),1),\n",
    "      ')')\n",
    "\n",
    "print('mean NICU GPT letter score',round(np.mean(base.loc[(base.evaluated_letter=='GPT letter') & (base.medical_specialty=='NICU'),'usability_likert']),1),\n",
    "      '(',\n",
    "      round(np.std(base.loc[(base.evaluated_letter=='GPT letter') & (base.medical_specialty=='NICU'),'usability_likert']),1),\n",
    "      ')')\n",
    "\n",
    "# Calculate average usability\n",
    "print('mean cardiology physician letter score',round(np.mean(base.loc[(base.evaluated_letter=='ORG letter') & (base.medical_specialty=='cardiology2'),'usability_likert']),1),\n",
    "      '(',\n",
    "      round(np.std(base.loc[(base.evaluated_letter=='ORG letter') & (base.medical_specialty=='cardiology2'),'usability_likert']),1),\n",
    "      ')')\n",
    "\n",
    "print('mean cardiology GPT letter score',round(np.mean(base.loc[(base.evaluated_letter=='GPT letter') & (base.medical_specialty=='cardiology2'),'usability_likert']),1),\n",
    "      '(',\n",
    "      round(np.std(base.loc[(base.evaluated_letter=='GPT letter') & (base.medical_specialty=='cardiology2'),'usability_likert']),1),\n",
    "      ')')"
   ]
  },
  {
   "cell_type": "code",
   "execution_count": 7,
   "metadata": {},
   "outputs": [
    {
     "data": {
      "image/png": "[encoded data removed]",
      "text/plain": [
       "<Figure size 432x288 with 1 Axes>"
      ]
     },
     "metadata": {
      "needs_background": "light"
     },
     "output_type": "display_data"
    }
   ],
   "source": [
    "# Calculate differences in usability\n",
    "double_evaluation_index = pd.crosstab(base.patientid, base.evaluated_letter).loc[pd.crosstab(base.patientid, base.evaluated_letter).sum(axis=1)==2,:].index\n",
    "double_evaluation_base = base.loc[base.patientid.isin(double_evaluation_index),:]\n",
    "double_evaluation_base_GPT = double_evaluation_base.loc[double_evaluation_base.evaluated_letter=='GPT letter',['patientid','usability_likert']].rename(columns={'usability_likert':'usability_likert_GPT'})\n",
    "double_evaluation_base_ORG = double_evaluation_base.loc[double_evaluation_base.evaluated_letter=='ORG letter',['patientid','usability_likert']].rename(columns={'usability_likert':'usability_likert_ORG'})\n",
    "double_usability = double_evaluation_base_GPT.merge(double_evaluation_base_ORG, on='patientid')\n",
    "double_usability['usability_difference'] = double_usability['usability_likert_GPT'] - double_usability['usability_likert_ORG']\n",
    "\n",
    "# Plot differences in usability\n",
    "barplot_table_difference = double_usability['usability_difference'].value_counts()\n",
    "width = 0.5\n",
    "plt.bar(x=barplot_table_difference.keys(), height=100*barplot_table_difference/barplot_table_difference.sum(), width=width, color='#EE7733')\n",
    "plt.ylabel('%')\n",
    "plt.xlabel('usability physician letter - usability GPT letter')\n",
    "plt.title('Usability physician letter - usability GPT letter')\n",
    "plt.savefig('figures/usability_difference_barplot.png', bbox_inches='tight')\n",
    "plt.show()"
   ]
  },
  {
   "cell_type": "code",
   "execution_count": 9,
   "metadata": {},
   "outputs": [
    {
     "data": {
      "image/png": "[encoded data removed]",
      "text/plain": [
       "<Figure size 432x288 with 1 Axes>"
      ]
     },
     "metadata": {
      "needs_background": "light"
     },
     "output_type": "display_data"
    }
   ],
   "source": [
    "# Plot usability barplot for GPT letter across medical specialties\n",
    "make_barplot(group_indices={'NICU':base.medical_specialty=='NICU','ICU':base.medical_specialty=='ICU','cardiology':base.medical_specialty=='cardiology2'}, #'cardiology':base.medical_specialty=='cardiology' \n",
    "    data=base.loc[base.evaluated_letter=='GPT letter',:], outcome='usability_likert', shift=np.array([-1,0,1]), \n",
    "    save_name='usability_barplot_per_specialty_GPT.png')"
   ]
  },
  {
   "cell_type": "code",
   "execution_count": 10,
   "metadata": {},
   "outputs": [
    {
     "data": {
      "image/png": "[encoded data removed]",
      "text/plain": [
       "<Figure size 432x288 with 1 Axes>"
      ]
     },
     "metadata": {
      "needs_background": "light"
     },
     "output_type": "display_data"
    }
   ],
   "source": [
    "# Plot usability barplot for physician letter across medical specialties\n",
    "make_barplot(group_indices={'NICU':base.medical_specialty=='NICU','ICU':base.medical_specialty=='ICU','cardiology':base.medical_specialty=='cardiology2'}, #'cardiology':base.medical_specialty=='cardiology' \n",
    "    data=base.loc[base.evaluated_letter=='ORG letter',:], outcome='usability_likert', shift=np.array([-1,0,1]), \n",
    "    save_name='usability_barplot_per_specialty_ORG.png')"
   ]
  },
  {
   "cell_type": "markdown",
   "metadata": {},
   "source": [
    "# QUALITATIVE QUESTIONS"
   ]
  },
  {
   "cell_type": "code",
   "execution_count": 12,
   "metadata": {},
   "outputs": [
    {
     "data": {
      "text/html": [
       "<div>\n",
       "<style scoped>\n",
       "    .dataframe tbody tr th:only-of-type {\n",
       "        vertical-align: middle;\n",
       "    }\n",
       "\n",
       "    .dataframe tbody tr th {\n",
       "        vertical-align: top;\n",
       "    }\n",
       "\n",
       "    .dataframe thead th {\n",
       "        text-align: right;\n",
       "    }\n",
       "</style>\n",
       "<table border=\"1\" class=\"dataframe\">\n",
       "  <thead>\n",
       "    <tr style=\"text-align: right;\">\n",
       "      <th>answer</th>\n",
       "      <th>ORG letter</th>\n",
       "      <th>GPT letter</th>\n",
       "    </tr>\n",
       "    <tr>\n",
       "      <th>question</th>\n",
       "      <th></th>\n",
       "      <th></th>\n",
       "    </tr>\n",
       "  </thead>\n",
       "  <tbody>\n",
       "    <tr>\n",
       "      <th>Vraag 1</th>\n",
       "      <td>56</td>\n",
       "      <td>40</td>\n",
       "    </tr>\n",
       "    <tr>\n",
       "      <th>Vraag 2</th>\n",
       "      <td>74</td>\n",
       "      <td>22</td>\n",
       "    </tr>\n",
       "    <tr>\n",
       "      <th>Vraag 3</th>\n",
       "      <td>64</td>\n",
       "      <td>32</td>\n",
       "    </tr>\n",
       "    <tr>\n",
       "      <th>All</th>\n",
       "      <td>194</td>\n",
       "      <td>94</td>\n",
       "    </tr>\n",
       "  </tbody>\n",
       "</table>\n",
       "</div>"
      ],
      "text/plain": [
       "answer    ORG letter  GPT letter\n",
       "question                        \n",
       "Vraag 1           56          40\n",
       "Vraag 2           74          22\n",
       "Vraag 3           64          32\n",
       "All              194          94"
      ]
     },
     "execution_count": 12,
     "metadata": {},
     "output_type": "execute_result"
    }
   ],
   "source": [
    "pd.crosstab(questions.question, questions.answer, margins=True)[['ORG letter','GPT letter']]"
   ]
  },
  {
   "cell_type": "code",
   "execution_count": 13,
   "metadata": {},
   "outputs": [
    {
     "data": {
      "text/html": [
       "<div>\n",
       "<style scoped>\n",
       "    .dataframe tbody tr th:only-of-type {\n",
       "        vertical-align: middle;\n",
       "    }\n",
       "\n",
       "    .dataframe tbody tr th {\n",
       "        vertical-align: top;\n",
       "    }\n",
       "\n",
       "    .dataframe thead th {\n",
       "        text-align: right;\n",
       "    }\n",
       "</style>\n",
       "<table border=\"1\" class=\"dataframe\">\n",
       "  <thead>\n",
       "    <tr style=\"text-align: right;\">\n",
       "      <th>answer</th>\n",
       "      <th>ORG letter</th>\n",
       "      <th>GPT letter</th>\n",
       "    </tr>\n",
       "    <tr>\n",
       "      <th>question</th>\n",
       "      <th></th>\n",
       "      <th></th>\n",
       "    </tr>\n",
       "  </thead>\n",
       "  <tbody>\n",
       "    <tr>\n",
       "      <th>Vraag 1</th>\n",
       "      <td>58.0</td>\n",
       "      <td>42.0</td>\n",
       "    </tr>\n",
       "    <tr>\n",
       "      <th>Vraag 2</th>\n",
       "      <td>77.0</td>\n",
       "      <td>23.0</td>\n",
       "    </tr>\n",
       "    <tr>\n",
       "      <th>Vraag 3</th>\n",
       "      <td>67.0</td>\n",
       "      <td>33.0</td>\n",
       "    </tr>\n",
       "    <tr>\n",
       "      <th>All</th>\n",
       "      <td>67.0</td>\n",
       "      <td>33.0</td>\n",
       "    </tr>\n",
       "  </tbody>\n",
       "</table>\n",
       "</div>"
      ],
      "text/plain": [
       "answer    ORG letter  GPT letter\n",
       "question                        \n",
       "Vraag 1         58.0        42.0\n",
       "Vraag 2         77.0        23.0\n",
       "Vraag 3         67.0        33.0\n",
       "All             67.0        33.0"
      ]
     },
     "execution_count": 13,
     "metadata": {},
     "output_type": "execute_result"
    }
   ],
   "source": [
    "round(100*pd.crosstab(questions.question, questions.answer, margins=True, normalize='index')[['ORG letter','GPT letter']],0)"
   ]
  },
  {
   "cell_type": "code",
   "execution_count": 14,
   "metadata": {},
   "outputs": [
    {
     "data": {
      "text/html": [
       "<div>\n",
       "<style scoped>\n",
       "    .dataframe tbody tr th:only-of-type {\n",
       "        vertical-align: middle;\n",
       "    }\n",
       "\n",
       "    .dataframe tbody tr th {\n",
       "        vertical-align: top;\n",
       "    }\n",
       "\n",
       "    .dataframe thead th {\n",
       "        text-align: right;\n",
       "    }\n",
       "</style>\n",
       "<table border=\"1\" class=\"dataframe\">\n",
       "  <thead>\n",
       "    <tr style=\"text-align: right;\">\n",
       "      <th>answer</th>\n",
       "      <th>ORG letter</th>\n",
       "      <th>GPT letter</th>\n",
       "    </tr>\n",
       "    <tr>\n",
       "      <th>question</th>\n",
       "      <th></th>\n",
       "      <th></th>\n",
       "    </tr>\n",
       "  </thead>\n",
       "  <tbody>\n",
       "    <tr>\n",
       "      <th>Vraag 1</th>\n",
       "      <td>34</td>\n",
       "      <td>11</td>\n",
       "    </tr>\n",
       "    <tr>\n",
       "      <th>Vraag 2</th>\n",
       "      <td>40</td>\n",
       "      <td>5</td>\n",
       "    </tr>\n",
       "    <tr>\n",
       "      <th>Vraag 3</th>\n",
       "      <td>40</td>\n",
       "      <td>5</td>\n",
       "    </tr>\n",
       "    <tr>\n",
       "      <th>All</th>\n",
       "      <td>114</td>\n",
       "      <td>21</td>\n",
       "    </tr>\n",
       "  </tbody>\n",
       "</table>\n",
       "</div>"
      ],
      "text/plain": [
       "answer    ORG letter  GPT letter\n",
       "question                        \n",
       "Vraag 1           34          11\n",
       "Vraag 2           40           5\n",
       "Vraag 3           40           5\n",
       "All              114          21"
      ]
     },
     "execution_count": 14,
     "metadata": {},
     "output_type": "execute_result"
    }
   ],
   "source": [
    "# questions per medical specialty\n",
    "pd.crosstab(questions.loc[questions.medical_specialty=='cardiology2','question'], \n",
    "    questions.loc[questions.medical_specialty=='cardiology2','answer'], margins=True)[['ORG letter','GPT letter']]"
   ]
  },
  {
   "cell_type": "code",
   "execution_count": 15,
   "metadata": {},
   "outputs": [
    {
     "data": {
      "text/html": [
       "<div>\n",
       "<style scoped>\n",
       "    .dataframe tbody tr th:only-of-type {\n",
       "        vertical-align: middle;\n",
       "    }\n",
       "\n",
       "    .dataframe tbody tr th {\n",
       "        vertical-align: top;\n",
       "    }\n",
       "\n",
       "    .dataframe thead th {\n",
       "        text-align: right;\n",
       "    }\n",
       "</style>\n",
       "<table border=\"1\" class=\"dataframe\">\n",
       "  <thead>\n",
       "    <tr style=\"text-align: right;\">\n",
       "      <th>answer</th>\n",
       "      <th>ORG letter</th>\n",
       "      <th>GPT letter</th>\n",
       "    </tr>\n",
       "    <tr>\n",
       "      <th>question</th>\n",
       "      <th></th>\n",
       "      <th></th>\n",
       "    </tr>\n",
       "  </thead>\n",
       "  <tbody>\n",
       "    <tr>\n",
       "      <th>Vraag 1</th>\n",
       "      <td>76.0</td>\n",
       "      <td>24.0</td>\n",
       "    </tr>\n",
       "    <tr>\n",
       "      <th>Vraag 2</th>\n",
       "      <td>89.0</td>\n",
       "      <td>11.0</td>\n",
       "    </tr>\n",
       "    <tr>\n",
       "      <th>Vraag 3</th>\n",
       "      <td>89.0</td>\n",
       "      <td>11.0</td>\n",
       "    </tr>\n",
       "    <tr>\n",
       "      <th>All</th>\n",
       "      <td>84.0</td>\n",
       "      <td>16.0</td>\n",
       "    </tr>\n",
       "  </tbody>\n",
       "</table>\n",
       "</div>"
      ],
      "text/plain": [
       "answer    ORG letter  GPT letter\n",
       "question                        \n",
       "Vraag 1         76.0        24.0\n",
       "Vraag 2         89.0        11.0\n",
       "Vraag 3         89.0        11.0\n",
       "All             84.0        16.0"
      ]
     },
     "execution_count": 15,
     "metadata": {},
     "output_type": "execute_result"
    }
   ],
   "source": [
    "# questions per medical specialty\n",
    "round(100*pd.crosstab(questions.loc[questions.medical_specialty=='cardiology2','question'], \n",
    "    questions.loc[questions.medical_specialty=='cardiology2','answer'], margins=True, normalize='index')[['ORG letter','GPT letter']],0)"
   ]
  },
  {
   "cell_type": "markdown",
   "metadata": {},
   "source": [
    "# Omissions/hallucinations"
   ]
  },
  {
   "cell_type": "code",
   "execution_count": 17,
   "metadata": {},
   "outputs": [
    {
     "data": {
      "text/html": [
       "<div>\n",
       "<style scoped>\n",
       "    .dataframe tbody tr th:only-of-type {\n",
       "        vertical-align: middle;\n",
       "    }\n",
       "\n",
       "    .dataframe tbody tr th {\n",
       "        vertical-align: top;\n",
       "    }\n",
       "\n",
       "    .dataframe thead th {\n",
       "        text-align: right;\n",
       "    }\n",
       "</style>\n",
       "<table border=\"1\" class=\"dataframe\">\n",
       "  <thead>\n",
       "    <tr style=\"text-align: right;\">\n",
       "      <th>importance</th>\n",
       "      <th>False</th>\n",
       "      <th>Less important</th>\n",
       "      <th>Important</th>\n",
       "    </tr>\n",
       "    <tr>\n",
       "      <th>evaluated_letter</th>\n",
       "      <th></th>\n",
       "      <th></th>\n",
       "      <th></th>\n",
       "    </tr>\n",
       "  </thead>\n",
       "  <tbody>\n",
       "    <tr>\n",
       "      <th>ORG letter</th>\n",
       "      <td>0.343158</td>\n",
       "      <td>0.444211</td>\n",
       "      <td>0.212632</td>\n",
       "    </tr>\n",
       "    <tr>\n",
       "      <th>GPT letter</th>\n",
       "      <td>0.163265</td>\n",
       "      <td>0.215561</td>\n",
       "      <td>0.621173</td>\n",
       "    </tr>\n",
       "    <tr>\n",
       "      <th>All</th>\n",
       "      <td>0.231136</td>\n",
       "      <td>0.301827</td>\n",
       "      <td>0.467037</td>\n",
       "    </tr>\n",
       "  </tbody>\n",
       "</table>\n",
       "</div>"
      ],
      "text/plain": [
       "importance           False  Less important  Important\n",
       "evaluated_letter                                     \n",
       "ORG letter        0.343158        0.444211   0.212632\n",
       "GPT letter        0.163265        0.215561   0.621173\n",
       "All               0.231136        0.301827   0.467037"
      ]
     },
     "execution_count": 17,
     "metadata": {},
     "output_type": "execute_result"
    }
   ],
   "source": [
    "crosstab = pd.crosstab(annotations.evaluated_letter, annotations.importance, margins=True, normalize='index')\n",
    "crosstab = crosstab.loc[:,['False','Less important','Important']]\n",
    "crosstab.loc[['ORG letter','GPT letter','All'],:]"
   ]
  },
  {
   "cell_type": "code",
   "execution_count": 18,
   "metadata": {},
   "outputs": [
    {
     "data": {
      "text/html": [
       "<div>\n",
       "<style scoped>\n",
       "    .dataframe tbody tr th:only-of-type {\n",
       "        vertical-align: middle;\n",
       "    }\n",
       "\n",
       "    .dataframe tbody tr th {\n",
       "        vertical-align: top;\n",
       "    }\n",
       "\n",
       "    .dataframe thead th {\n",
       "        text-align: right;\n",
       "    }\n",
       "</style>\n",
       "<table border=\"1\" class=\"dataframe\">\n",
       "  <thead>\n",
       "    <tr style=\"text-align: right;\">\n",
       "      <th>importance</th>\n",
       "      <th>Less important</th>\n",
       "      <th>Important</th>\n",
       "      <th>All</th>\n",
       "    </tr>\n",
       "    <tr>\n",
       "      <th>type</th>\n",
       "      <th></th>\n",
       "      <th></th>\n",
       "      <th></th>\n",
       "    </tr>\n",
       "  </thead>\n",
       "  <tbody>\n",
       "    <tr>\n",
       "      <th>omission</th>\n",
       "      <td>53</td>\n",
       "      <td>59</td>\n",
       "      <td>112</td>\n",
       "    </tr>\n",
       "    <tr>\n",
       "      <th>trivial</th>\n",
       "      <td>1</td>\n",
       "      <td>0</td>\n",
       "      <td>1</td>\n",
       "    </tr>\n",
       "    <tr>\n",
       "      <th>hallucination</th>\n",
       "      <td>157</td>\n",
       "      <td>42</td>\n",
       "      <td>199</td>\n",
       "    </tr>\n",
       "    <tr>\n",
       "      <th>All</th>\n",
       "      <td>211</td>\n",
       "      <td>101</td>\n",
       "      <td>312</td>\n",
       "    </tr>\n",
       "  </tbody>\n",
       "</table>\n",
       "</div>"
      ],
      "text/plain": [
       "importance     Less important  Important  All\n",
       "type                                         \n",
       "omission                   53         59  112\n",
       "trivial                     1          0    1\n",
       "hallucination             157         42  199\n",
       "All                       211        101  312"
      ]
     },
     "execution_count": 18,
     "metadata": {},
     "output_type": "execute_result"
    }
   ],
   "source": [
    "# Physician letter\n",
    "annotations_physician = annotations.loc[(annotations.evaluated_letter=='ORG letter')&(annotations.importance!='False'),:]\n",
    "crosstab = pd.crosstab(annotations_physician['type'],annotations_physician['importance'], margins=True) \n",
    "crosstab.loc[['omission','trivial','hallucination','All'],['Less important','Important','All']]"
   ]
  },
  {
   "cell_type": "code",
   "execution_count": 19,
   "metadata": {},
   "outputs": [
    {
     "data": {
      "text/html": [
       "<div>\n",
       "<style scoped>\n",
       "    .dataframe tbody tr th:only-of-type {\n",
       "        vertical-align: middle;\n",
       "    }\n",
       "\n",
       "    .dataframe tbody tr th {\n",
       "        vertical-align: top;\n",
       "    }\n",
       "\n",
       "    .dataframe thead th {\n",
       "        text-align: right;\n",
       "    }\n",
       "</style>\n",
       "<table border=\"1\" class=\"dataframe\">\n",
       "  <thead>\n",
       "    <tr style=\"text-align: right;\">\n",
       "      <th>importance</th>\n",
       "      <th>Less important</th>\n",
       "      <th>Important</th>\n",
       "      <th>All</th>\n",
       "    </tr>\n",
       "    <tr>\n",
       "      <th>type</th>\n",
       "      <th></th>\n",
       "      <th></th>\n",
       "      <th></th>\n",
       "    </tr>\n",
       "  </thead>\n",
       "  <tbody>\n",
       "    <tr>\n",
       "      <th>omission</th>\n",
       "      <td>25.0</td>\n",
       "      <td>58.0</td>\n",
       "      <td>36.0</td>\n",
       "    </tr>\n",
       "    <tr>\n",
       "      <th>trivial</th>\n",
       "      <td>0.0</td>\n",
       "      <td>0.0</td>\n",
       "      <td>0.0</td>\n",
       "    </tr>\n",
       "    <tr>\n",
       "      <th>hallucination</th>\n",
       "      <td>74.0</td>\n",
       "      <td>42.0</td>\n",
       "      <td>64.0</td>\n",
       "    </tr>\n",
       "  </tbody>\n",
       "</table>\n",
       "</div>"
      ],
      "text/plain": [
       "importance     Less important  Important   All\n",
       "type                                          \n",
       "omission                 25.0       58.0  36.0\n",
       "trivial                   0.0        0.0   0.0\n",
       "hallucination            74.0       42.0  64.0"
      ]
     },
     "execution_count": 19,
     "metadata": {},
     "output_type": "execute_result"
    }
   ],
   "source": [
    "# Physician letter\n",
    "crosstab = round(100*pd.crosstab(annotations_physician['type'],annotations_physician['importance'], margins=True, normalize='columns'),0)\n",
    "crosstab.loc[['omission','trivial','hallucination'],['Less important','Important','All']]\n",
    "# crosstab.loc[['omission','trivial','hallucination','All'],['Less important','Important']]"
   ]
  },
  {
   "cell_type": "code",
   "execution_count": 20,
   "metadata": {},
   "outputs": [
    {
     "data": {
      "text/html": [
       "<div>\n",
       "<style scoped>\n",
       "    .dataframe tbody tr th:only-of-type {\n",
       "        vertical-align: middle;\n",
       "    }\n",
       "\n",
       "    .dataframe tbody tr th {\n",
       "        vertical-align: top;\n",
       "    }\n",
       "\n",
       "    .dataframe thead th {\n",
       "        text-align: right;\n",
       "    }\n",
       "</style>\n",
       "<table border=\"1\" class=\"dataframe\">\n",
       "  <thead>\n",
       "    <tr style=\"text-align: right;\">\n",
       "      <th>importance</th>\n",
       "      <th>Less important</th>\n",
       "      <th>Important</th>\n",
       "      <th>All</th>\n",
       "    </tr>\n",
       "    <tr>\n",
       "      <th>type</th>\n",
       "      <th></th>\n",
       "      <th></th>\n",
       "      <th></th>\n",
       "    </tr>\n",
       "  </thead>\n",
       "  <tbody>\n",
       "    <tr>\n",
       "      <th>omission</th>\n",
       "      <td>92</td>\n",
       "      <td>267</td>\n",
       "      <td>359</td>\n",
       "    </tr>\n",
       "    <tr>\n",
       "      <th>trivial</th>\n",
       "      <td>57</td>\n",
       "      <td>152</td>\n",
       "      <td>209</td>\n",
       "    </tr>\n",
       "    <tr>\n",
       "      <th>hallucination</th>\n",
       "      <td>20</td>\n",
       "      <td>68</td>\n",
       "      <td>88</td>\n",
       "    </tr>\n",
       "    <tr>\n",
       "      <th>All</th>\n",
       "      <td>169</td>\n",
       "      <td>487</td>\n",
       "      <td>656</td>\n",
       "    </tr>\n",
       "  </tbody>\n",
       "</table>\n",
       "</div>"
      ],
      "text/plain": [
       "importance     Less important  Important  All\n",
       "type                                         \n",
       "omission                   92        267  359\n",
       "trivial                    57        152  209\n",
       "hallucination              20         68   88\n",
       "All                       169        487  656"
      ]
     },
     "execution_count": 20,
     "metadata": {},
     "output_type": "execute_result"
    }
   ],
   "source": [
    "# GPT letter\n",
    "annotations_GPT = annotations.loc[(annotations.evaluated_letter=='GPT letter')&(annotations.importance!='False'),:]\n",
    "crosstab = pd.crosstab(annotations_GPT['type'],annotations_GPT['importance'], margins=True, ) \n",
    "crosstab.loc[['omission','trivial','hallucination','All'],['Less important','Important','All']]"
   ]
  },
  {
   "cell_type": "code",
   "execution_count": 21,
   "metadata": {},
   "outputs": [
    {
     "data": {
      "text/html": [
       "<div>\n",
       "<style scoped>\n",
       "    .dataframe tbody tr th:only-of-type {\n",
       "        vertical-align: middle;\n",
       "    }\n",
       "\n",
       "    .dataframe tbody tr th {\n",
       "        vertical-align: top;\n",
       "    }\n",
       "\n",
       "    .dataframe thead th {\n",
       "        text-align: right;\n",
       "    }\n",
       "</style>\n",
       "<table border=\"1\" class=\"dataframe\">\n",
       "  <thead>\n",
       "    <tr style=\"text-align: right;\">\n",
       "      <th>importance</th>\n",
       "      <th>Less important</th>\n",
       "      <th>Important</th>\n",
       "      <th>All</th>\n",
       "    </tr>\n",
       "    <tr>\n",
       "      <th>type</th>\n",
       "      <th></th>\n",
       "      <th></th>\n",
       "      <th></th>\n",
       "    </tr>\n",
       "  </thead>\n",
       "  <tbody>\n",
       "    <tr>\n",
       "      <th>omission</th>\n",
       "      <td>54.0</td>\n",
       "      <td>55.0</td>\n",
       "      <td>55.0</td>\n",
       "    </tr>\n",
       "    <tr>\n",
       "      <th>trivial</th>\n",
       "      <td>34.0</td>\n",
       "      <td>31.0</td>\n",
       "      <td>32.0</td>\n",
       "    </tr>\n",
       "    <tr>\n",
       "      <th>hallucination</th>\n",
       "      <td>12.0</td>\n",
       "      <td>14.0</td>\n",
       "      <td>13.0</td>\n",
       "    </tr>\n",
       "  </tbody>\n",
       "</table>\n",
       "</div>"
      ],
      "text/plain": [
       "importance     Less important  Important   All\n",
       "type                                          \n",
       "omission                 54.0       55.0  55.0\n",
       "trivial                  34.0       31.0  32.0\n",
       "hallucination            12.0       14.0  13.0"
      ]
     },
     "execution_count": 21,
     "metadata": {},
     "output_type": "execute_result"
    }
   ],
   "source": [
    "# GPT letter\n",
    "crosstab = round(100*pd.crosstab(annotations_GPT['type'],annotations_GPT['importance'], margins=True, normalize='columns'),0)\n",
    "crosstab.loc[['omission','trivial','hallucination'],['Less important','Important','All']]\n",
    "# crosstab.loc[['omission','trivial','hallucination','All'],['Less important','Important']]"
   ]
  },
  {
   "cell_type": "code",
   "execution_count": 67,
   "metadata": {},
   "outputs": [
    {
     "data": {
      "text/html": [
       "<div>\n",
       "<style scoped>\n",
       "    .dataframe tbody tr th:only-of-type {\n",
       "        vertical-align: middle;\n",
       "    }\n",
       "\n",
       "    .dataframe tbody tr th {\n",
       "        vertical-align: top;\n",
       "    }\n",
       "\n",
       "    .dataframe thead th {\n",
       "        text-align: right;\n",
       "    }\n",
       "</style>\n",
       "<table border=\"1\" class=\"dataframe\">\n",
       "  <thead>\n",
       "    <tr style=\"text-align: right;\">\n",
       "      <th></th>\n",
       "      <th>mean</th>\n",
       "      <th>std</th>\n",
       "      <th>median</th>\n",
       "      <th>25percentile</th>\n",
       "      <th>75percentile</th>\n",
       "      <th>min</th>\n",
       "      <th>max</th>\n",
       "    </tr>\n",
       "  </thead>\n",
       "  <tbody>\n",
       "    <tr>\n",
       "      <th>omission</th>\n",
       "      <td>0.9</td>\n",
       "      <td>1.1</td>\n",
       "      <td>0.0</td>\n",
       "      <td>0.0</td>\n",
       "      <td>2.0</td>\n",
       "      <td>0.0</td>\n",
       "      <td>5.0</td>\n",
       "    </tr>\n",
       "    <tr>\n",
       "      <th>trivial</th>\n",
       "      <td>0.0</td>\n",
       "      <td>0.0</td>\n",
       "      <td>0.0</td>\n",
       "      <td>0.0</td>\n",
       "      <td>0.0</td>\n",
       "      <td>0.0</td>\n",
       "      <td>0.0</td>\n",
       "    </tr>\n",
       "    <tr>\n",
       "      <th>hallucination</th>\n",
       "      <td>2.4</td>\n",
       "      <td>3.0</td>\n",
       "      <td>1.0</td>\n",
       "      <td>0.0</td>\n",
       "      <td>3.0</td>\n",
       "      <td>0.0</td>\n",
       "      <td>16.0</td>\n",
       "    </tr>\n",
       "  </tbody>\n",
       "</table>\n",
       "</div>"
      ],
      "text/plain": [
       "               mean  std  median  25percentile  75percentile  min   max\n",
       "omission        0.9  1.1     0.0           0.0           2.0  0.0   5.0\n",
       "trivial         0.0  0.0     0.0           0.0           0.0  0.0   0.0\n",
       "hallucination   2.4  3.0     1.0           0.0           3.0  0.0  16.0"
      ]
     },
     "execution_count": 67,
     "metadata": {},
     "output_type": "execute_result"
    }
   ],
   "source": [
    "# Calculate the statistics at the letter level \n",
    "# Get omissions, trivial facts, hallucinations at the individual letter level\n",
    "annotations_per_letter_minor_severe = get_number_of_annotations_per_letter(annotations.loc[(annotations.importance!='False'),:], base)\n",
    "annotations_per_letter_severe = get_number_of_annotations_per_letter(annotations.loc[(annotations.importance=='Important'),:], base)\n",
    "\n",
    "get_statistics_per_letter(annotations_per_letter=annotations_per_letter_minor_severe.loc[annotations_per_letter_minor_severe.medical_specialty=='cardiology2',:], \n",
    "                          letter_type='ORG letter', type_annotations=['omission','trivial','hallucination'])"
   ]
  },
  {
   "cell_type": "code",
   "execution_count": 68,
   "metadata": {},
   "outputs": [
    {
     "data": {
      "text/html": [
       "<div>\n",
       "<style scoped>\n",
       "    .dataframe tbody tr th:only-of-type {\n",
       "        vertical-align: middle;\n",
       "    }\n",
       "\n",
       "    .dataframe tbody tr th {\n",
       "        vertical-align: top;\n",
       "    }\n",
       "\n",
       "    .dataframe thead th {\n",
       "        text-align: right;\n",
       "    }\n",
       "</style>\n",
       "<table border=\"1\" class=\"dataframe\">\n",
       "  <thead>\n",
       "    <tr style=\"text-align: right;\">\n",
       "      <th></th>\n",
       "      <th>mean</th>\n",
       "      <th>std</th>\n",
       "      <th>median</th>\n",
       "      <th>25percentile</th>\n",
       "      <th>75percentile</th>\n",
       "      <th>min</th>\n",
       "      <th>max</th>\n",
       "    </tr>\n",
       "  </thead>\n",
       "  <tbody>\n",
       "    <tr>\n",
       "      <th>omission</th>\n",
       "      <td>0.5</td>\n",
       "      <td>1.0</td>\n",
       "      <td>0.0</td>\n",
       "      <td>0.0</td>\n",
       "      <td>1.0</td>\n",
       "      <td>0.0</td>\n",
       "      <td>5.0</td>\n",
       "    </tr>\n",
       "    <tr>\n",
       "      <th>trivial</th>\n",
       "      <td>0.0</td>\n",
       "      <td>0.0</td>\n",
       "      <td>0.0</td>\n",
       "      <td>0.0</td>\n",
       "      <td>0.0</td>\n",
       "      <td>0.0</td>\n",
       "      <td>0.0</td>\n",
       "    </tr>\n",
       "    <tr>\n",
       "      <th>hallucination</th>\n",
       "      <td>0.2</td>\n",
       "      <td>0.6</td>\n",
       "      <td>0.0</td>\n",
       "      <td>0.0</td>\n",
       "      <td>0.0</td>\n",
       "      <td>0.0</td>\n",
       "      <td>3.0</td>\n",
       "    </tr>\n",
       "  </tbody>\n",
       "</table>\n",
       "</div>"
      ],
      "text/plain": [
       "               mean  std  median  25percentile  75percentile  min  max\n",
       "omission        0.5  1.0     0.0           0.0           1.0  0.0  5.0\n",
       "trivial         0.0  0.0     0.0           0.0           0.0  0.0  0.0\n",
       "hallucination   0.2  0.6     0.0           0.0           0.0  0.0  3.0"
      ]
     },
     "execution_count": 68,
     "metadata": {},
     "output_type": "execute_result"
    }
   ],
   "source": [
    "get_statistics_per_letter(annotations_per_letter=annotations_per_letter_severe.loc[annotations_per_letter_severe.medical_specialty=='cardiology2',:],\n",
    "                          letter_type='ORG letter', type_annotations=['omission','trivial','hallucination'])"
   ]
  },
  {
   "cell_type": "code",
   "execution_count": 69,
   "metadata": {},
   "outputs": [
    {
     "data": {
      "text/html": [
       "<div>\n",
       "<style scoped>\n",
       "    .dataframe tbody tr th:only-of-type {\n",
       "        vertical-align: middle;\n",
       "    }\n",
       "\n",
       "    .dataframe tbody tr th {\n",
       "        vertical-align: top;\n",
       "    }\n",
       "\n",
       "    .dataframe thead th {\n",
       "        text-align: right;\n",
       "    }\n",
       "</style>\n",
       "<table border=\"1\" class=\"dataframe\">\n",
       "  <thead>\n",
       "    <tr style=\"text-align: right;\">\n",
       "      <th></th>\n",
       "      <th>mean</th>\n",
       "      <th>std</th>\n",
       "      <th>median</th>\n",
       "      <th>25percentile</th>\n",
       "      <th>75percentile</th>\n",
       "      <th>min</th>\n",
       "      <th>max</th>\n",
       "    </tr>\n",
       "  </thead>\n",
       "  <tbody>\n",
       "    <tr>\n",
       "      <th>omission</th>\n",
       "      <td>4.5</td>\n",
       "      <td>5.7</td>\n",
       "      <td>2.0</td>\n",
       "      <td>0.0</td>\n",
       "      <td>8.0</td>\n",
       "      <td>0.0</td>\n",
       "      <td>22.0</td>\n",
       "    </tr>\n",
       "    <tr>\n",
       "      <th>trivial</th>\n",
       "      <td>2.4</td>\n",
       "      <td>2.4</td>\n",
       "      <td>2.0</td>\n",
       "      <td>1.0</td>\n",
       "      <td>4.0</td>\n",
       "      <td>0.0</td>\n",
       "      <td>9.0</td>\n",
       "    </tr>\n",
       "    <tr>\n",
       "      <th>hallucination</th>\n",
       "      <td>0.9</td>\n",
       "      <td>1.7</td>\n",
       "      <td>1.0</td>\n",
       "      <td>0.0</td>\n",
       "      <td>1.0</td>\n",
       "      <td>0.0</td>\n",
       "      <td>11.0</td>\n",
       "    </tr>\n",
       "  </tbody>\n",
       "</table>\n",
       "</div>"
      ],
      "text/plain": [
       "               mean  std  median  25percentile  75percentile  min   max\n",
       "omission        4.5  5.7     2.0           0.0           8.0  0.0  22.0\n",
       "trivial         2.4  2.4     2.0           1.0           4.0  0.0   9.0\n",
       "hallucination   0.9  1.7     1.0           0.0           1.0  0.0  11.0"
      ]
     },
     "execution_count": 69,
     "metadata": {},
     "output_type": "execute_result"
    }
   ],
   "source": [
    "get_statistics_per_letter(annotations_per_letter=annotations_per_letter_minor_severe.loc[annotations_per_letter_minor_severe.medical_specialty=='cardiology2',:],\n",
    "                          letter_type='GPT letter', type_annotations=['omission','trivial','hallucination'])"
   ]
  },
  {
   "cell_type": "code",
   "execution_count": 70,
   "metadata": {},
   "outputs": [
    {
     "data": {
      "text/html": [
       "<div>\n",
       "<style scoped>\n",
       "    .dataframe tbody tr th:only-of-type {\n",
       "        vertical-align: middle;\n",
       "    }\n",
       "\n",
       "    .dataframe tbody tr th {\n",
       "        vertical-align: top;\n",
       "    }\n",
       "\n",
       "    .dataframe thead th {\n",
       "        text-align: right;\n",
       "    }\n",
       "</style>\n",
       "<table border=\"1\" class=\"dataframe\">\n",
       "  <thead>\n",
       "    <tr style=\"text-align: right;\">\n",
       "      <th></th>\n",
       "      <th>mean</th>\n",
       "      <th>std</th>\n",
       "      <th>median</th>\n",
       "      <th>25percentile</th>\n",
       "      <th>75percentile</th>\n",
       "      <th>min</th>\n",
       "      <th>max</th>\n",
       "    </tr>\n",
       "  </thead>\n",
       "  <tbody>\n",
       "    <tr>\n",
       "      <th>omission</th>\n",
       "      <td>4.0</td>\n",
       "      <td>5.6</td>\n",
       "      <td>1.0</td>\n",
       "      <td>0.0</td>\n",
       "      <td>6.0</td>\n",
       "      <td>0.0</td>\n",
       "      <td>22.0</td>\n",
       "    </tr>\n",
       "    <tr>\n",
       "      <th>trivial</th>\n",
       "      <td>2.1</td>\n",
       "      <td>2.2</td>\n",
       "      <td>1.0</td>\n",
       "      <td>0.0</td>\n",
       "      <td>3.0</td>\n",
       "      <td>0.0</td>\n",
       "      <td>9.0</td>\n",
       "    </tr>\n",
       "    <tr>\n",
       "      <th>hallucination</th>\n",
       "      <td>0.9</td>\n",
       "      <td>1.7</td>\n",
       "      <td>0.0</td>\n",
       "      <td>0.0</td>\n",
       "      <td>1.0</td>\n",
       "      <td>0.0</td>\n",
       "      <td>11.0</td>\n",
       "    </tr>\n",
       "  </tbody>\n",
       "</table>\n",
       "</div>"
      ],
      "text/plain": [
       "               mean  std  median  25percentile  75percentile  min   max\n",
       "omission        4.0  5.6     1.0           0.0           6.0  0.0  22.0\n",
       "trivial         2.1  2.2     1.0           0.0           3.0  0.0   9.0\n",
       "hallucination   0.9  1.7     0.0           0.0           1.0  0.0  11.0"
      ]
     },
     "execution_count": 70,
     "metadata": {},
     "output_type": "execute_result"
    }
   ],
   "source": [
    "get_statistics_per_letter(annotations_per_letter=annotations_per_letter_severe.loc[annotations_per_letter_severe.medical_specialty=='cardiology2',:], \n",
    "                          letter_type='GPT letter', type_annotations=['omission','trivial','hallucination'])"
   ]
  },
  {
   "cell_type": "code",
   "execution_count": 41,
   "metadata": {},
   "outputs": [
    {
     "name": "stdout",
     "output_type": "stream",
     "text": [
      "physician letter omission 57\n",
      "physician letter trivial fact 0\n",
      "physician letter addition 57\n"
     ]
    }
   ],
   "source": [
    "# How much percent of letters do omissions, trivial facts, and hallucinations/additions occur?\n",
    "MS='ICU'\n",
    "\n",
    "ORG_omission = annotations_per_letter_minor_severe.loc[\n",
    "    (annotations_per_letter_minor_severe.variable=='omission') & \n",
    "    (annotations_per_letter_minor_severe.medical_specialty==MS) &\n",
    "    (annotations_per_letter_minor_severe.evaluated_letter=='ORG letter'),:\n",
    "]\n",
    "ORG_trivial = annotations_per_letter_minor_severe.loc[\n",
    "    (annotations_per_letter_minor_severe.variable=='trivial') & \n",
    "    (annotations_per_letter_minor_severe.medical_specialty==MS) &\n",
    "    (annotations_per_letter_minor_severe.evaluated_letter=='ORG letter'),:\n",
    "]\n",
    "ORG_addition = annotations_per_letter_minor_severe.loc[\n",
    "    (annotations_per_letter_minor_severe.variable=='hallucination') & \n",
    "    (annotations_per_letter_minor_severe.medical_specialty==MS) &\n",
    "    (annotations_per_letter_minor_severe.evaluated_letter=='ORG letter'),:\n",
    "]\n",
    "print('physician letter omission', round(100*(ORG_omission.value>0).sum()/ORG_omission.shape[0]))\n",
    "print('physician letter trivial fact', round(100*(ORG_trivial.value>0).sum()/ORG_trivial.shape[0]))\n",
    "print('physician letter addition', round(100*(ORG_addition.value>0).sum()/ORG_addition.shape[0]))"
   ]
  },
  {
   "cell_type": "code",
   "execution_count": 42,
   "metadata": {},
   "outputs": [
    {
     "name": "stdout",
     "output_type": "stream",
     "text": [
      "physician letter omission 35\n",
      "physician letter trivial fact 0\n",
      "physician letter addition 26\n"
     ]
    }
   ],
   "source": [
    "# How much percent of letters do omissions, trivial facts, and hallucinations/additions occur?\n",
    "ORG_omission = annotations_per_letter_severe.loc[\n",
    "    (annotations_per_letter_severe.variable=='omission') & \n",
    "    (annotations_per_letter_severe.medical_specialty==MS) &\n",
    "    (annotations_per_letter_severe.evaluated_letter=='ORG letter'),:\n",
    "]\n",
    "ORG_trivial = annotations_per_letter_severe.loc[\n",
    "    (annotations_per_letter_severe.variable=='trivial') & \n",
    "    (annotations_per_letter_severe.medical_specialty==MS) &\n",
    "    (annotations_per_letter_severe.evaluated_letter=='ORG letter'),:\n",
    "]\n",
    "ORG_addition = annotations_per_letter_severe.loc[\n",
    "    (annotations_per_letter_severe.variable=='hallucination') & \n",
    "    (annotations_per_letter_severe.medical_specialty==MS) &\n",
    "    (annotations_per_letter_severe.evaluated_letter=='ORG letter'),:\n",
    "]\n",
    "print('physician letter omission', round(100*(ORG_omission.value>0).sum()/ORG_omission.shape[0]))\n",
    "print('physician letter trivial fact', round(100*(ORG_trivial.value>0).sum()/ORG_trivial.shape[0]))\n",
    "print('physician letter addition', round(100*(ORG_addition.value>0).sum()/ORG_addition.shape[0]))"
   ]
  },
  {
   "cell_type": "code",
   "execution_count": 43,
   "metadata": {},
   "outputs": [
    {
     "name": "stdout",
     "output_type": "stream",
     "text": [
      "GPT letter omission 83\n",
      "GPT letter trivial fact 70\n",
      "GPT letter hallucination 43\n"
     ]
    }
   ],
   "source": [
    "# How much percent of letters do omissions, trivial facts, and hallucinations/additions occur?\n",
    "MS='ICU'\n",
    "\n",
    "GPT_omission = annotations_per_letter_minor_severe.loc[\n",
    "    (annotations_per_letter_minor_severe.variable=='omission') & \n",
    "    (annotations_per_letter_minor_severe.medical_specialty==MS) &\n",
    "    (annotations_per_letter_minor_severe.evaluated_letter=='GPT letter'),:\n",
    "]\n",
    "GPT_trivial = annotations_per_letter_minor_severe.loc[\n",
    "    (annotations_per_letter_minor_severe.variable=='trivial') & \n",
    "    (annotations_per_letter_minor_severe.medical_specialty==MS) &\n",
    "    (annotations_per_letter_minor_severe.evaluated_letter=='GPT letter'),:\n",
    "]\n",
    "GPT_hallucination = annotations_per_letter_minor_severe.loc[\n",
    "    (annotations_per_letter_minor_severe.variable=='hallucination') & \n",
    "    (annotations_per_letter_minor_severe.medical_specialty==MS) &\n",
    "    (annotations_per_letter_minor_severe.evaluated_letter=='GPT letter'),:\n",
    "]\n",
    "print('GPT letter omission', round(100*(GPT_omission.value>0).sum()/GPT_omission.shape[0]))\n",
    "print('GPT letter trivial fact', round(100*(GPT_trivial.value>0).sum()/GPT_trivial.shape[0]))\n",
    "print('GPT letter hallucination', round(100*(GPT_hallucination.value>0).sum()/GPT_hallucination.shape[0]))"
   ]
  },
  {
   "cell_type": "code",
   "execution_count": 44,
   "metadata": {},
   "outputs": [
    {
     "name": "stdout",
     "output_type": "stream",
     "text": [
      "GPT letter omission 52\n",
      "GPT letter trivial fact 48\n",
      "GPT letter hallucination 35\n"
     ]
    }
   ],
   "source": [
    "# How much percent of letters do omissions, trivial facts, and hallucinations/additions occur?\n",
    "GPT_omission = annotations_per_letter_severe.loc[\n",
    "    (annotations_per_letter_severe.variable=='omission') & \n",
    "    (annotations_per_letter_severe.medical_specialty==MS) &\n",
    "    (annotations_per_letter_severe.evaluated_letter=='GPT letter'),:\n",
    "]\n",
    "GPT_trivial = annotations_per_letter_severe.loc[\n",
    "    (annotations_per_letter_severe.variable=='trivial') & \n",
    "    (annotations_per_letter_severe.medical_specialty==MS) &\n",
    "    (annotations_per_letter_severe.evaluated_letter=='GPT letter'),:\n",
    "]\n",
    "GPT_hallucination = annotations_per_letter_severe.loc[\n",
    "    (annotations_per_letter_severe.variable=='hallucination') & \n",
    "    (annotations_per_letter_severe.medical_specialty==MS) &\n",
    "    (annotations_per_letter_severe.evaluated_letter=='GPT letter'),:\n",
    "]\n",
    "print('GPT letter omission', round(100*(GPT_omission.value>0).sum()/GPT_omission.shape[0]))\n",
    "print('GPT letter trivial fact', round(100*(GPT_trivial.value>0).sum()/GPT_trivial.shape[0]))\n",
    "print('GPT letter hallucination', round(100*(GPT_hallucination.value>0).sum()/GPT_hallucination.shape[0]))"
   ]
  },
  {
   "cell_type": "code",
   "execution_count": 33,
   "metadata": {},
   "outputs": [
    {
     "data": {
      "image/png": "[encoded data removed]",
      "text/plain": [
       "<Figure size 432x288 with 1 Axes>"
      ]
     },
     "metadata": {
      "needs_background": "light"
     },
     "output_type": "display_data"
    }
   ],
   "source": [
    "# Make plot of omissions/additions/trivial facts \n",
    "evaluated_letter = 'ORG letter'\n",
    "medical_specialty = 'NICU'\n",
    "annotations_per_letter_important = get_number_of_annotations_per_letter(annotations.loc[(annotations.importance=='Important'),:], base)\n",
    "annotations_per_letter_important = annotations_per_letter_important.loc[\n",
    "    # (annotations_per_letter_important.medical_specialty==medical_specialty) & \n",
    "    (annotations_per_letter_important.evaluated_letter==evaluated_letter)]\n",
    "annotations_per_letter_less_important = get_number_of_annotations_per_letter(annotations.loc[(annotations.importance=='Less important'),:], base)\n",
    "annotations_per_letter_less_important = annotations_per_letter_less_important.loc[\n",
    "    # (annotations_per_letter_less_important.medical_specialty==medical_specialty) & \n",
    "    (annotations_per_letter_less_important.evaluated_letter==evaluated_letter)]\n",
    "\n",
    "make_om_hal_triv_barplot_importance(\n",
    "    group_indices = {\n",
    "        'omission':['variable','omission'], \n",
    "        'addition':['variable','hallucination'], \n",
    "        'trivial fact':['variable','trivial']},\n",
    "    data = {'important':annotations_per_letter_important, 'less important':annotations_per_letter_less_important},\n",
    "    outcome = 'value',\n",
    "    shift = np.array([-1,0,1]),\n",
    "    title='Omissions, additions, and trivial facts per physician letter', \n",
    "    save_name='annotations_barplot_ORG.pdf',\n",
    "    cutoff=3)"
   ]
  },
  {
   "cell_type": "code",
   "execution_count": 34,
   "metadata": {},
   "outputs": [
    {
     "data": {
      "image/png": "[encoded data removed]",
      "text/plain": [
       "<Figure size 432x288 with 1 Axes>"
      ]
     },
     "metadata": {
      "needs_background": "light"
     },
     "output_type": "display_data"
    }
   ],
   "source": [
    "# Make plot of omissions/additions/trivial facts \n",
    "evaluated_letter = 'GPT letter'\n",
    "medical_specialty = 'NICU'\n",
    "annotations_per_letter_important = get_number_of_annotations_per_letter(annotations.loc[(annotations.importance=='Important'),:], base)\n",
    "annotations_per_letter_important = annotations_per_letter_important.loc[\n",
    "    # (annotations_per_letter_important.medical_specialty==medical_specialty) & \n",
    "    (annotations_per_letter_important.evaluated_letter==evaluated_letter)]\n",
    "annotations_per_letter_less_important = get_number_of_annotations_per_letter(annotations.loc[(annotations.importance=='Less important'),:], base)\n",
    "annotations_per_letter_less_important = annotations_per_letter_less_important.loc[\n",
    "    # (annotations_per_letter_less_important.medical_specialty==medical_specialty) & \n",
    "    (annotations_per_letter_less_important.evaluated_letter==evaluated_letter)]\n",
    "\n",
    "make_om_hal_triv_barplot_importance(\n",
    "    group_indices = {\n",
    "        'omission':['variable','omission'], \n",
    "        'hallucination':['variable','hallucination'], \n",
    "        'trivial fact':['variable','trivial']},\n",
    "    data = {'important':annotations_per_letter_important, 'less important':annotations_per_letter_less_important},\n",
    "    outcome = 'value',\n",
    "    shift = np.array([-1,0,1]),\n",
    "    title='Omissions, hallucinations, and trivial facts per GPT letter', \n",
    "    save_name='annotations_barplot_GPT.pdf',\n",
    "    cutoff=3)"
   ]
  },
  {
   "cell_type": "code",
   "execution_count": 35,
   "metadata": {},
   "outputs": [
    {
     "data": {
      "image/png": "[encoded data removed]",
      "text/plain": [
       "<Figure size 432x288 with 1 Axes>"
      ]
     },
     "metadata": {
      "needs_background": "light"
     },
     "output_type": "display_data"
    }
   ],
   "source": [
    "# Make plot of omissions/additions/trivial facts \n",
    "doc_approved_annotations = annotations.loc[(annotations.importance=='Less important'),:]\n",
    "annotations_per_letter = get_number_of_annotations_per_letter(doc_approved_annotations, base)\n",
    "\n",
    "# Plot usability barplot for physician letter across medical specialties\n",
    "make_om_hal_triv_barplot(group_indices={\n",
    "    'omission':annotations_per_letter.variable=='omission',\n",
    "    'addition':annotations_per_letter.variable=='hallucination',\n",
    "    'trivial fact':annotations_per_letter.variable=='trivial'}, \n",
    "    data=annotations_per_letter.loc[(annotations_per_letter.evaluated_letter=='ORG letter')\n",
    "        & (annotations_per_letter.medical_specialty=='NICU'),:], # & (annotations_per_letter.medical_specialty=='cardiology')\n",
    "    outcome='value', \n",
    "    shift=np.array([-1,0,1]),\n",
    "    title='Less important omissions, additions, and trivial facts per physician letter', \n",
    "    save_name='annotations_barplot_ORG_LI_NICU.pdf',\n",
    "    cutoff=3) "
   ]
  },
  {
   "cell_type": "code",
   "execution_count": 36,
   "metadata": {},
   "outputs": [
    {
     "data": {
      "image/png": "[encoded data removed]",
      "text/plain": [
       "<Figure size 432x288 with 1 Axes>"
      ]
     },
     "metadata": {
      "needs_background": "light"
     },
     "output_type": "display_data"
    }
   ],
   "source": [
    "# Make plot of omissions/hallucinations/trivial facts \n",
    "doc_approved_annotations = annotations.loc[(annotations.importance=='Less important'),:]\n",
    "annotations_per_letter = get_number_of_annotations_per_letter(doc_approved_annotations, base)\n",
    "\n",
    "# Plot usability barplot for GPT letter across medical specialties\n",
    "make_om_hal_triv_barplot(group_indices={\n",
    "    'omission':annotations_per_letter.variable=='omission',\n",
    "    'hallucination':annotations_per_letter.variable=='hallucination',\n",
    "    'trivial fact':annotations_per_letter.variable=='trivial'}, \n",
    "    data=annotations_per_letter.loc[(annotations_per_letter.evaluated_letter=='GPT letter')\n",
    "        & (annotations_per_letter.medical_specialty=='NICU'),:], # & (annotations_per_letter.medical_specialty=='cardiology')\n",
    "    outcome='value', \n",
    "    shift=np.array([-1,0,1]),\n",
    "    title='Less important omissions, hallucinations, and trivial facts per GPT letter', \n",
    "    save_name='annotations_barplot_GPT_LI_NICU.pdf',\n",
    "    cutoff=3) "
   ]
  }
 ],
 "metadata": {
  "kernelspec": {
   "display_name": "Python 3.7.7 ('test')",
   "language": "python",
   "name": "python3"
  },
  "language_info": {
   "codemirror_mode": {
    "name": "ipython",
    "version": 3
   },
   "file_extension": ".py",
   "mimetype": "text/x-python",
   "name": "python",
   "nbconvert_exporter": "python",
   "pygments_lexer": "ipython3",
   "version": "3.9.7"
  },
  "orig_nbformat": 4,
  "vscode": {
   "interpreter": {
    "hash": "a8aac0b6a3e67f35bcd67088a857342b2a6b50e1135570ee0f841fb10732c056"
   }
  }
 },
 "nbformat": 4,
 "nbformat_minor": 2
}
